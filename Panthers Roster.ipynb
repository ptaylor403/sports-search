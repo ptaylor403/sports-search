{
 "cells": [
  {
   "cell_type": "code",
   "execution_count": 48,
   "metadata": {
    "collapsed": true
   },
   "outputs": [],
   "source": [
    "import psycopg2"
   ]
  },
  {
   "cell_type": "code",
   "execution_count": 49,
   "metadata": {
    "collapsed": false
   },
   "outputs": [],
   "source": [
    "# conn = psycopg2.connect(\"dbname=panthers user=trishataylor host=/tmp/\")\n",
    "\n",
    "# cur = conn.cursor()\n",
    "\n",
    "# create_table = (\"CREATE TABLE roster(id serial PRIMARY KEY NOT NULL, \"\n",
    "#                 \"jersey INT, \"\n",
    "#                 \"name TEXT NOT NULL, \"\n",
    "#                 \"age INT, \"\n",
    "#                 \"pos TEXT, \"\n",
    "#                 \"games_played INT, \"\n",
    "#                 \"games_started INT, \"\n",
    "#                 \"weight INT, \"\n",
    "#                 \"height varchar, \"\n",
    "#                 \"college TEXT, \"\n",
    "#                 \"bday date,\"\n",
    "#                 \"years_in_NFL varchar, \"\n",
    "#                 \"value INT, \"\n",
    "#                 \"drafted TEXT, \"\n",
    "#                 \"salary varchar );\")\n",
    "\n",
    "# cur.execute(create_table)\n",
    "\n",
    "# cur.execute(\"COPY roster(jersey, name, age, pos, games_played, \" +\n",
    "#             \"games_started, weight, height, college, bday, years_in_NFL, \" +\n",
    "#             \"value, drafted, salary) FROM \" +\n",
    "#             \"'/Users/trishataylor/Documents/week6/homework/sports_search/roster.csv' \" +\n",
    "#             \"DELIMITER',' CSV\")\n"
   ]
  },
  {
   "cell_type": "code",
   "execution_count": 50,
   "metadata": {
    "collapsed": false
   },
   "outputs": [],
   "source": [
    "# cur.execute('SELECT * FROM roster')\n",
    "# cur.fetchall()"
   ]
  },
  {
   "cell_type": "code",
   "execution_count": 51,
   "metadata": {
    "collapsed": true
   },
   "outputs": [],
   "source": [
    "import csv\n",
    "import psycopg2"
   ]
  },
  {
   "cell_type": "code",
   "execution_count": 52,
   "metadata": {
    "collapsed": false,
    "scrolled": true
   },
   "outputs": [],
   "source": [
    "conn = psycopg2.connect(\"dbname=panthers user=trishataylor host=/tmp/\")\n",
    "\n",
    "cur = conn.cursor()\n",
    "\n",
    "cur.execute(\"CREATE TABLE roster (jersey INT, name TEXT NOT NULL, age INT, pos TEXT, games_played INT, games_started INT, weight INT, height varchar, college TEXT, bday date, years_in_NFL varchar, value INT, drafted TEXT, salary varchar);\")\n",
    "\n",
    "with open('roster.csv') as file:\n",
    "    players = csv.reader(file, delimiter=',')\n",
    "    for row in players:\n",
    "        r = [row[column] for column in range(14)]\n",
    "        cur.execute(\"INSERT INTO roster (jersey, name, age, pos, games_played, games_started, weight, height, college, bday, years_in_NFL, value, drafted, salary) VALUES (%s, %s, %s, %s, %s, %s, %s, %s, %s, %s, %s, %s, %s, %s)\", r)"
   ]
  },
  {
   "cell_type": "code",
   "execution_count": 53,
   "metadata": {
    "collapsed": false
   },
   "outputs": [
    {
     "data": {
      "text/plain": [
       "(97,\n",
       " 'Mario Addison',\n",
       " 28,\n",
       " '',\n",
       " 14,\n",
       " 0,\n",
       " 239,\n",
       " '6-2',\n",
       " 'Troy',\n",
       " datetime.date(1987, 9, 6),\n",
       " '4',\n",
       " 2,\n",
       " '',\n",
       " '$1020000')"
      ]
     },
     "execution_count": 53,
     "metadata": {},
     "output_type": "execute_result"
    }
   ],
   "source": [
    "cur.execute('SELECT * FROM roster')\n",
    "cur.fetchone()"
   ]
  },
  {
   "cell_type": "code",
   "execution_count": 54,
   "metadata": {
    "collapsed": true
   },
   "outputs": [],
   "source": [
    "import argparse"
   ]
  },
  {
   "cell_type": "code",
   "execution_count": 58,
   "metadata": {
    "collapsed": true
   },
   "outputs": [],
   "source": [
    "def search_players():\n",
    "    search = input(\"Search for a player: \").lower()\n",
    "    cur.execute(\"SELECT * FROM roster WHERE name like %search%\")"
   ]
  },
  {
   "cell_type": "code",
   "execution_count": null,
   "metadata": {
    "collapsed": false
   },
   "outputs": [],
   "source": []
  },
  {
   "cell_type": "code",
   "execution_count": null,
   "metadata": {
    "collapsed": true
   },
   "outputs": [],
   "source": []
  }
 ],
 "metadata": {
  "kernelspec": {
   "display_name": "Python 3",
   "language": "python",
   "name": "python3"
  },
  "language_info": {
   "codemirror_mode": {
    "name": "ipython",
    "version": 3
   },
   "file_extension": ".py",
   "mimetype": "text/x-python",
   "name": "python",
   "nbconvert_exporter": "python",
   "pygments_lexer": "ipython3",
   "version": "3.5.1"
  }
 },
 "nbformat": 4,
 "nbformat_minor": 0
}
